{
 "cells": [
  {
   "cell_type": "markdown",
   "metadata": {
    "deletable": true,
    "editable": true
   },
   "source": [
    "# Turbine check-out/calibration notebook\n",
    "\n",
    "Use this notebook to set up a series of runs for turbine calibration and check-out"
   ]
  },
  {
   "cell_type": "code",
   "execution_count": 1,
   "metadata": {
    "deletable": true,
    "editable": true
   },
   "outputs": [],
   "source": [
    "%%capture \n",
    "\n",
    "# Important header information\n",
    "amrwindfedir = '/projects/wind_uq/lcheung/amrwind-frontend'\n",
    "import sys, os\n",
    "sys.path.insert(1, amrwindfedir)\n",
    "\n",
    "# Load the libraries\n",
    "import matplotlib.pyplot    as plt\n",
    "import amrwind_frontend as amrwind\n",
    "import tempfile\n",
    "import shutil\n",
    "# Also ignore warnings\n",
    "import warnings\n",
    "warnings.filterwarnings('ignore')\n",
    "\n",
    "# Make all plots inline \n",
    "%matplotlib inline"
   ]
  },
  {
   "cell_type": "markdown",
   "metadata": {
    "deletable": true,
    "editable": true
   },
   "source": [
    "**Note**: Make sure there is a turbine file which looks like:"
   ]
  },
  {
   "cell_type": "code",
   "execution_count": null,
   "metadata": {
    "collapsed": false,
    "deletable": true,
    "editable": true,
    "jupyter": {
     "outputs_hidden": false
    }
   },
   "outputs": [],
   "source": [
    "with open(amrwindfedir+\"/turbines/nrel28-127_calib.yaml\")as f: print(f.read())"
   ]
  },
  {
   "cell_type": "markdown",
   "metadata": {
    "deletable": true,
    "editable": true
   },
   "source": [
    "Note that both `Actuator_epsilon` and `Actuator_epsilon_tower` are commented out.  We can set those values later."
   ]
  },
  {
   "cell_type": "code",
   "execution_count": 3,
   "metadata": {
    "collapsed": false,
    "deletable": true,
    "editable": true,
    "jupyter": {
     "outputs_hidden": false
    }
   },
   "outputs": [],
   "source": [
    "# Start the amrwind_frontend app \n",
    "case = amrwind.MyApp.init_nogui()"
   ]
  },
  {
   "cell_type": "code",
   "execution_count": null,
   "metadata": {
    "collapsed": false,
    "deletable": true,
    "editable": true,
    "jupyter": {
     "outputs_hidden": false
    }
   },
   "outputs": [],
   "source": [
    "curdir=os.getcwd()\n",
    "\n",
    "# Create a temporary working directory and switch to it\n",
    "\n",
    "# Uncomment these lines to make your own tempdir\n",
    "## tempdir = 'tempturbinedir'\n",
    "## os.mkdir(tempdir)\n",
    "# Otherwise use a system temporary directory\n",
    "tempdir = tempfile.mkdtemp(prefix='tempturbine-')\n",
    "os.chdir(tempdir)\n",
    "print('Using temporary directory: '+tempdir)"
   ]
  },
  {
   "cell_type": "markdown",
   "metadata": {
    "deletable": true,
    "editable": true
   },
   "source": [
    "## Set up the basic simulation properties"
   ]
  },
  {
   "cell_type": "code",
   "execution_count": 5,
   "metadata": {
    "deletable": true,
    "editable": true
   },
   "outputs": [],
   "source": [
    "rhodensity = 1.225\n",
    "WS         = 11.0                                     # This is temporary, we will vary across a range below\n",
    "eps        = 5.0\n",
    "case.setAMRWindInput('useWSDir', True)\n",
    "case.setAMRWindInput('ABL_windspeed', WS, forcechange=True)\n",
    "case.setAMRWindInput('ABL_winddir', 270,  forcechange=True)\n",
    "case.ABL_calculateWindVector()"
   ]
  },
  {
   "cell_type": "code",
   "execution_count": 6,
   "metadata": {
    "deletable": true,
    "editable": true
   },
   "outputs": [],
   "source": [
    "case.setAMRWindInput('time_control',   ['const dt'])\n",
    "case.setAMRWindInput('time.stop_time', 360)\n",
    "case.setAMRWindInput('time.fixed_dt',  0.1)\n",
    "case.setAMRWindInput('incflo.physics', ['FreeStream', 'Actuator'])"
   ]
  },
  {
   "cell_type": "code",
   "execution_count": 7,
   "metadata": {
    "deletable": true,
    "editable": true
   },
   "outputs": [],
   "source": [
    "case.setAMRWindInput('ConstValue.density.value',  rhodensity)\n",
    "case.setAMRWindInput('incflo.density',            rhodensity)\n",
    "case.setAMRWindInput('incflo.velocity',           [WS, 0.0, 0.0])\n",
    "case.setAMRWindInput('ConstValue.velocity.value', [WS, 0.0, 0.0])\n",
    "case.setAMRWindInput('turbulence.model',          ['Laminar'])"
   ]
  },
  {
   "cell_type": "markdown",
   "metadata": {
    "deletable": true,
    "editable": true
   },
   "source": [
    "## Set the BC's"
   ]
  },
  {
   "cell_type": "code",
   "execution_count": 8,
   "metadata": {
    "deletable": true,
    "editable": true
   },
   "outputs": [],
   "source": [
    "case.setAMRWindInput('is_periodicx', False)\n",
    "case.setAMRWindInput('is_periodicy', True)\n",
    "case.setAMRWindInput('is_periodicz', True)  \n",
    "\n",
    "case.setAMRWindInput('xlo.type', 'mass_inflow')\n",
    "case.setAMRWindInput('xhi.type', 'pressure_outflow')\n",
    "case.setAMRWindInput('xlo.density',  rhodensity)\n",
    "case.setAMRWindInput('xlo.velocity', [WS, 0.0, 0.0])"
   ]
  },
  {
   "cell_type": "code",
   "execution_count": 9,
   "metadata": {
    "deletable": true,
    "editable": true
   },
   "outputs": [],
   "source": [
    "# Add the turbine specifications flag\n",
    "## Note that the options field can have things like:\n",
    "##    ADparam_TwrAero:False ADparam_TwrShadow:0 FSTparam_TMax:181234.0\n",
    "## To specify changes to the OpenFAST model\n",
    "turbinescsv=\"\"\"\n",
    "# CSV file should have columns with\n",
    "# name, x, y, type, yaw, hubheight, options\n",
    "T0,     0, 0, NREL 2.8-127 ADM bugfix, 270.0, 0.0, ADparam_TwrAero:True ADparam_TwrShadow:0\n",
    "\"\"\"\n",
    "case.setAMRWindInput('turbines_csvtextbox',  turbinescsv)"
   ]
  },
  {
   "cell_type": "code",
   "execution_count": 10,
   "metadata": {
    "collapsed": false,
    "deletable": true,
    "editable": true,
    "jupyter": {
     "outputs_hidden": false
    }
   },
   "outputs": [],
   "source": [
    "case.setAMRWindInput('turbines_domainsize', [2560.0*2, 960.0*2, 960.0*2])\n",
    "case.setAMRWindInput('turbines_backgroundmeshsize', 20.0)\n",
    "case.setAMRWindInput('turbines_deleteprev', True)\n",
    "case.setAMRWindInput('turbines_freespace', True)   # Make this have no ground\n",
    "#case.setAMRWindInput('zlo_type', 'slip_wall')\n",
    "#case.setAMRWindInput('zhi_type', 'slip_wall')"
   ]
  },
  {
   "cell_type": "code",
   "execution_count": null,
   "metadata": {
    "collapsed": false,
    "deletable": true,
    "editable": true,
    "jupyter": {
     "outputs_hidden": false
    }
   },
   "outputs": [],
   "source": [
    "# Preview the turbine layout\n",
    "fig, ax = plt.subplots(figsize=(5,5), facecolor='w', dpi=150)\n",
    "case.turbines_previewAllTurbines(ax=ax)"
   ]
  },
  {
   "cell_type": "code",
   "execution_count": null,
   "metadata": {
    "collapsed": false,
    "deletable": true,
    "editable": true,
    "jupyter": {
     "outputs_hidden": false
    }
   },
   "outputs": [],
   "source": [
    "# Now create the turbines\n",
    "case.turbines_createAllTurbines()\n",
    "\n",
    "# Print out existing list of turbines, just to confirm that the turbines got made\n",
    "print(case.listboxpopupwindict['listboxactuator'].getitemlist())"
   ]
  },
  {
   "cell_type": "code",
   "execution_count": 13,
   "metadata": {
    "collapsed": false,
    "deletable": true,
    "editable": true,
    "jupyter": {
     "outputs_hidden": false
    }
   },
   "outputs": [],
   "source": [
    "# Set some globals\n",
    "case.setAMRWindInput('Actuator_default_type', ['TurbineFastDisk'])\n",
    "case.setAMRWindInput('Actuator_TurbineFastDisk_density',       rhodensity,      forcechange=True)\n",
    "case.setAMRWindInput('Actuator_TurbineFastDisk_epsilon',       [eps, eps, eps], forcechange=True)  # You can change this\n",
    "case.setAMRWindInput('Actuator_TurbineFastDisk_epsilon_tower', [eps, eps, eps], forcechange=True)  # You can change this"
   ]
  },
  {
   "cell_type": "markdown",
   "metadata": {
    "deletable": true,
    "editable": true
   },
   "source": [
    "## Add turbine refinement"
   ]
  },
  {
   "cell_type": "code",
   "execution_count": 14,
   "metadata": {
    "deletable": true,
    "editable": true
   },
   "outputs": [],
   "source": [
    "refinementcsv=\"\"\"\n",
    "# CSV file should have columns with\n",
    "# level, upstream, downstream, lateral, below, above, options\n",
    "level, upstream, downstream, lateral, below, above, options\n",
    "0,     10,       10,         3,       2,     2,     center:farm\n",
    "1,     2.5,      2.5,        2.5,     1.2,   1.2,   center:farm\n",
    "2,     1,        1,          0.75,    0.8,   0.8,  \n",
    "\"\"\"\n",
    "case.setAMRWindInput('refine_csvtextbox', refinementcsv)\n",
    "case.setAMRWindInput('refine_deleteprev', True)"
   ]
  },
  {
   "cell_type": "code",
   "execution_count": null,
   "metadata": {
    "collapsed": false,
    "deletable": true,
    "editable": true,
    "jupyter": {
     "outputs_hidden": false
    }
   },
   "outputs": [],
   "source": [
    "case.refine_createAllZones()\n",
    "# Print out existing list of turbines\n",
    "print(case.listboxpopupwindict['listboxtagging'].getitemlist())"
   ]
  },
  {
   "cell_type": "code",
   "execution_count": null,
   "metadata": {
    "collapsed": false,
    "deletable": true,
    "editable": true,
    "jupyter": {
     "outputs_hidden": false
    }
   },
   "outputs": [],
   "source": [
    "# Plot the domain\n",
    "fig, ax2 = plt.subplots(figsize=(5,5), facecolor='w', dpi=125)\n",
    "case.popup_storteddata['plotdomain']['plot_turbines']        = case.listboxpopupwindict['listboxactuator'].getitemlist()\n",
    "case.popup_storteddata['plotdomain']['plot_refineboxes']     = case.listboxpopupwindict['listboxtagging'].getitemlist()\n",
    "case.plotDomain(ax=ax2)"
   ]
  },
  {
   "cell_type": "code",
   "execution_count": null,
   "metadata": {
    "collapsed": false,
    "deletable": true,
    "editable": true,
    "jupyter": {
     "outputs_hidden": false
    }
   },
   "outputs": [],
   "source": [
    "# Plot the domain\n",
    "fig, ax = plt.subplots(figsize=(8,6), facecolor='w', dpi=125)\n",
    "case.popup_storteddata['plotdomain']['plot_chooseview']      = 'YZ'\n",
    "case.popup_storteddata['plotdomain']['plot_refineboxes']     = case.listboxpopupwindict['listboxtagging'].getitemlist()\n",
    "case.popup_storteddata['plotdomain']['plot_sampleprobes']    = [] #case.listboxpopupwindict['listboxsampling'].getitemlist()\n",
    "case.popup_storteddata['plotdomain']['plot_turbines']        = case.listboxpopupwindict['listboxactuator'].getitemlist()\n",
    "case.plotDomain(ax=ax)"
   ]
  },
  {
   "cell_type": "code",
   "execution_count": null,
   "metadata": {
    "collapsed": false,
    "deletable": true,
    "editable": true,
    "jupyter": {
     "outputs_hidden": false
    }
   },
   "outputs": [],
   "source": [
    "case.estimateMeshSize()"
   ]
  },
  {
   "cell_type": "markdown",
   "metadata": {
    "deletable": true,
    "editable": true
   },
   "source": [
    "### Create sampling planes"
   ]
  },
  {
   "cell_type": "code",
   "execution_count": 19,
   "metadata": {
    "deletable": true,
    "editable": true
   },
   "outputs": [],
   "source": [
    "samplingcsv=\"\"\"\n",
    "# CSV file should have columns withturbinescsv=\n",
    "# name, type, upstream, downstream, lateral, below, above, n1, n2, options\n",
    "name, type, upstream, downstream, lateral, below, above, n1, n2, options\n",
    "#cl1, centerline, 1,  0, none, none,  none,  11, 11, none\n",
    "#rp1, rotorplane, 2,  0, none, none,  none,  11, 11, none\n",
    "#sw1, streamwise, 2,  1, 1, 0.5,  0.5,  11, 11, usedx:0.25 noffsets:1\n",
    "hh,  hubheight,2560,2560,960, 0,  none,  11, 11, usedx:10 units:meter center:farm orientation:x\n",
    "\"\"\"\n",
    "case.setAMRWindInput('sampling_csvtextbox', samplingcsv)\n",
    "case.setAMRWindInput('sampling_deleteprev', True)"
   ]
  },
  {
   "cell_type": "code",
   "execution_count": null,
   "metadata": {
    "collapsed": false,
    "deletable": true,
    "editable": true,
    "jupyter": {
     "outputs_hidden": false
    }
   },
   "outputs": [],
   "source": [
    "case.sampling_createAllProbes(verbose=False)\n",
    "# Print out existing list of turbines\n",
    "print(case.listboxpopupwindict['listboxsampling'].getitemlist())"
   ]
  },
  {
   "cell_type": "code",
   "execution_count": null,
   "metadata": {
    "collapsed": false,
    "deletable": true,
    "editable": true,
    "jupyter": {
     "outputs_hidden": false
    }
   },
   "outputs": [],
   "source": [
    "# Plot the domain\n",
    "fig, ax = plt.subplots(figsize=(8,6), facecolor='w', dpi=125)\n",
    "case.popup_storteddata['plotdomain']['plot_refineboxes']     = [] #case.listboxpopupwindict['listboxtagging'].getitemlist()\n",
    "case.popup_storteddata['plotdomain']['plot_sampleprobes']    = case.listboxpopupwindict['listboxsampling'].getitemlist()\n",
    "case.popup_storteddata['plotdomain']['plot_turbines']        = case.listboxpopupwindict['listboxactuator'].getitemlist()\n",
    "case.plotDomain(ax=ax)"
   ]
  },
  {
   "cell_type": "code",
   "execution_count": null,
   "metadata": {
    "collapsed": false,
    "deletable": true,
    "editable": true,
    "jupyter": {
     "outputs_hidden": false
    }
   },
   "outputs": [],
   "source": [
    "print(case.writeAMRWindInput(''))"
   ]
  },
  {
   "cell_type": "code",
   "execution_count": 23,
   "metadata": {
    "collapsed": false,
    "deletable": true,
    "editable": true,
    "jupyter": {
     "outputs_hidden": false
    }
   },
   "outputs": [],
   "source": [
    "# Clean up the temporary directory\n",
    "docleanup = True\n",
    "os.chdir(curdir)\n",
    "if docleanup:\n",
    "    try:\n",
    "        shutil.rmtree(tempdir)\n",
    "    except:\n",
    "        print(\"Error cleaning up: \"+tempdir)"
   ]
  },
  {
   "cell_type": "markdown",
   "metadata": {
    "deletable": true,
    "editable": true
   },
   "source": [
    "## Set up a wind sweep"
   ]
  },
  {
   "cell_type": "code",
   "execution_count": 24,
   "metadata": {
    "deletable": true,
    "editable": true
   },
   "outputs": [],
   "source": [
    "# Set the parameters\n",
    "case.setAMRWindInput('sweep_windspeeds', '7 9 10 11')\n",
    "case.setAMRWindInput('sweep_winddirs',   '270')\n",
    "case.setAMRWindInput('sweep_caseprefix', 'Calibrate_dx2p5_{CASENUM}_EPS%0.2f_WS_{WS}'%eps)\n",
    "case.setAMRWindInput('sweep_dirprefix',  'Calibrate_dx2p5_{CASENUM}_EPS%0.2f_WS_{WS}'%eps)\n",
    "case.setAMRWindInput('sweep_usenewdirs', True)\n",
    "case.setAMRWindInput('sweep_logfile',    'RunCalibration_dx2.5_Eps%0.2f_logfile.yaml'%eps)"
   ]
  },
  {
   "cell_type": "code",
   "execution_count": 25,
   "metadata": {
    "deletable": true,
    "editable": true
   },
   "outputs": [],
   "source": [
    "# Submission parameters\n",
    "case.popup_storteddata['submitscript']['submitscript_numnodes'] = 8\n",
    "case.popup_storteddata['submitscript']['submitscript_runtime']  = '4:00:00'\n",
    "case.popup_storteddata['submitscript']['submitscript_wcid']     = 'fy210193'\n",
    "case.popup_storteddata['submitscript']['submitscript_partition']= 'batch,short'\n",
    "case.popup_storteddata['submitscript']['submitscript_corespernode'] = 16\n",
    "case.popup_storteddata['submitscript']['submitscript_queue']    = 'normal'\n",
    "case.popup_storteddata['submitscript']['submitscript_jobname']  = 'Cstm2p8'\n",
    "case.popup_storteddata['submitscript']['submitscript_exe']      = '/projects/wind_uq/lcheung/AMRWindBuilds/hfm.20240102/amr-wind/build/amr_wind'\n",
    "\n",
    "case.setAMRWindInput('sweep_createsubmitscript', True)\n",
    "case.setAMRWindInput('sweep_submitjob',          False)"
   ]
  },
  {
   "cell_type": "code",
   "execution_count": null,
   "metadata": {
    "collapsed": false,
    "deletable": true,
    "editable": true,
    "jupyter": {
     "outputs_hidden": false
    }
   },
   "outputs": [],
   "source": [
    "# Set up the cases\n",
    "case.sweep_SetupRunParamSweep(verbose=True)"
   ]
  },
  {
   "cell_type": "markdown",
   "metadata": {
    "deletable": true,
    "editable": true
   },
   "source": [
    "### Save the calibration"
   ]
  },
  {
   "cell_type": "code",
   "execution_count": null,
   "metadata": {
    "collapsed": false,
    "deletable": true,
    "editable": true,
    "jupyter": {
     "outputs_hidden": false
    }
   },
   "outputs": [],
   "source": [
    "# Save the wind farm setup\n",
    "case.setAMRWindInput('farm_usercomments', 'Test calibration process.')\n",
    "case.writeFarmSetupYAML('TurbineCalibrateCustom2p8_dx2.5_Eps%0.2f.yaml'%eps)"
   ]
  }
 ],
 "metadata": {
  "kernelspec": {
   "display_name": "Python 3 (ipykernel)",
   "language": "python",
   "name": "python3"
  },
  "language_info": {
   "codemirror_mode": {
    "name": "ipython",
    "version": 3
   },
   "file_extension": ".py",
   "mimetype": "text/x-python",
   "name": "python",
   "nbconvert_exporter": "python",
   "pygments_lexer": "ipython3",
   "version": "3.11.5"
  }
 },
 "nbformat": 4,
 "nbformat_minor": 4
}
